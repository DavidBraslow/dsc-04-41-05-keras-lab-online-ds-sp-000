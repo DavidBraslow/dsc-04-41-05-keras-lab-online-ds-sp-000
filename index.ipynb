{
 "cells": [
  {
   "cell_type": "markdown",
   "metadata": {},
   "source": [
    "# Keras - Lab\n",
    "\n",
    "## Introduction\n",
    "\n",
    "In this lab you'll once again build a neural network but this time with much less production time since we will be using Keras to do a lot of the heavy lifting building blocks which we coded from hand previously.  Our use case will be classifying Bank complaints.\n",
    "\n",
    "\n",
    "## Objectives\n",
    "\n",
    "You will be able to:\n",
    "* Build a neural network using Keras"
   ]
  },
  {
   "cell_type": "markdown",
   "metadata": {},
   "source": [
    "## Loading Required Packages\n",
    "\n",
    "Here we'll import all of the various packages that we'll use in this code along. We'll point out where these imports were used as they come up in the lab."
   ]
  },
  {
   "cell_type": "code",
   "execution_count": 1,
   "metadata": {},
   "outputs": [
    {
     "name": "stderr",
     "output_type": "stream",
     "text": [
      "Using TensorFlow backend.\n"
     ]
    }
   ],
   "source": [
    "import matplotlib.pyplot as plt\n",
    "import pandas as pd\n",
    "import numpy as np\n",
    "import random\n",
    "from sklearn.model_selection import train_test_split\n",
    "from keras.utils.np_utils import to_categorical\n",
    "from sklearn import preprocessing\n",
    "from keras.preprocessing.text import Tokenizer\n",
    "from keras import models\n",
    "from keras import layers\n",
    "from keras import optimizers"
   ]
  },
  {
   "cell_type": "markdown",
   "metadata": {},
   "source": [
    "## Loading the data\n",
    "\n",
    "As usual, we will start our data science process by importing the data itself.  \n",
    "Load and preview as a pandas dataframe.   \n",
    "The data is stored in a file **Bank_complaints.csv**."
   ]
  },
  {
   "cell_type": "code",
   "execution_count": 3,
   "metadata": {},
   "outputs": [
    {
     "data": {
      "text/html": [
       "<div>\n",
       "<style scoped>\n",
       "    .dataframe tbody tr th:only-of-type {\n",
       "        vertical-align: middle;\n",
       "    }\n",
       "\n",
       "    .dataframe tbody tr th {\n",
       "        vertical-align: top;\n",
       "    }\n",
       "\n",
       "    .dataframe thead th {\n",
       "        text-align: right;\n",
       "    }\n",
       "</style>\n",
       "<table border=\"1\" class=\"dataframe\">\n",
       "  <thead>\n",
       "    <tr style=\"text-align: right;\">\n",
       "      <th></th>\n",
       "      <th>Product</th>\n",
       "      <th>Consumer complaint narrative</th>\n",
       "    </tr>\n",
       "  </thead>\n",
       "  <tbody>\n",
       "    <tr>\n",
       "      <th>0</th>\n",
       "      <td>Student loan</td>\n",
       "      <td>In XX/XX/XXXX I filled out the Fedlaon applica...</td>\n",
       "    </tr>\n",
       "    <tr>\n",
       "      <th>1</th>\n",
       "      <td>Student loan</td>\n",
       "      <td>I am being contacted by a debt collector for p...</td>\n",
       "    </tr>\n",
       "    <tr>\n",
       "      <th>2</th>\n",
       "      <td>Student loan</td>\n",
       "      <td>I cosigned XXXX student loans at SallieMae for...</td>\n",
       "    </tr>\n",
       "    <tr>\n",
       "      <th>3</th>\n",
       "      <td>Student loan</td>\n",
       "      <td>Navient has sytematically and illegally failed...</td>\n",
       "    </tr>\n",
       "    <tr>\n",
       "      <th>4</th>\n",
       "      <td>Student loan</td>\n",
       "      <td>My wife became eligible for XXXX Loan Forgiven...</td>\n",
       "    </tr>\n",
       "  </tbody>\n",
       "</table>\n",
       "</div>"
      ],
      "text/plain": [
       "        Product                       Consumer complaint narrative\n",
       "0  Student loan  In XX/XX/XXXX I filled out the Fedlaon applica...\n",
       "1  Student loan  I am being contacted by a debt collector for p...\n",
       "2  Student loan  I cosigned XXXX student loans at SallieMae for...\n",
       "3  Student loan  Navient has sytematically and illegally failed...\n",
       "4  Student loan  My wife became eligible for XXXX Loan Forgiven..."
      ]
     },
     "execution_count": 3,
     "metadata": {},
     "output_type": "execute_result"
    }
   ],
   "source": [
    "#Your code here\n",
    "#import pandas as pd #As reference; already imported above\n",
    "raw_df = pd.read_csv('Bank_complaints.csv')\n",
    "raw_df.head()"
   ]
  },
  {
   "cell_type": "markdown",
   "metadata": {},
   "source": [
    "## Further Preview of the Categories\n",
    "\n",
    "As we said, our task here is to categorize banking complaints into various predefined categories. Preview what these categories are and what percent of the complaints each accounts for."
   ]
  },
  {
   "cell_type": "code",
   "execution_count": 7,
   "metadata": {
    "scrolled": true
   },
   "outputs": [
    {
     "data": {
      "text/plain": [
       "Student loan                   0.190067\n",
       "Credit card                    0.159000\n",
       "Consumer Loan                  0.157900\n",
       "Mortgage                       0.138867\n",
       "Bank account or service        0.138483\n",
       "Credit reporting               0.114400\n",
       "Checking or savings account    0.101283\n",
       "Name: Product, dtype: float64"
      ]
     },
     "execution_count": 7,
     "metadata": {},
     "output_type": "execute_result"
    }
   ],
   "source": [
    "#Your code here\n",
    "raw_df['Product'].value_counts(normalize = True)"
   ]
  },
  {
   "cell_type": "markdown",
   "metadata": {},
   "source": [
    "## Preprocessing\n",
    "\n",
    "Before we build our neural network, we need to do several preprocessing steps. First, we will create word vector counts (a bag of words type representation) of our complaints text. Next, we will change the category labels to integers. Finally, we will perform our usual train-test split before building and training our neural network using Keras. With that, let's start munging our data!"
   ]
  },
  {
   "cell_type": "markdown",
   "metadata": {},
   "source": [
    "## One-hot encoding of the complaints\n",
    "\n",
    "Our first step again is to transform our textual data into a numerical representation. As we've started to see in some of our previous lessons on NLP, there are many ways to do this. Here, we'll use the `Tokenizer` method from the `preprocessing` module of the Keras package.   \n",
    "\n",
    "As with our previous work using NLTK, this will transform our text complaints into word vectors. (Note that the method of creating a vector is different from our previous work with NLTK; as you'll see, word order will be preserved as oppossed to a bag of words representation. In the below code, we'll only keep the 2,000 most common words and use one-hot encoding.\n",
    "\n",
    "Note that the code block below takes advantage of the following package import from our first code cell above.  \n",
    "`from keras.preprocessing.text import Tokenizer`"
   ]
  },
  {
   "cell_type": "code",
   "execution_count": 8,
   "metadata": {},
   "outputs": [],
   "source": [
    "#As a quick preliminary, briefly review the docstring for the Keras.preprocessing.text.Tokenizer method:\n",
    "Tokenizer?"
   ]
  },
  {
   "cell_type": "code",
   "execution_count": 10,
   "metadata": {},
   "outputs": [
    {
     "name": "stdout",
     "output_type": "stream",
     "text": [
      "sequences type: <class 'list'>\n",
      "one_hot_results type: <class 'numpy.ndarray'>\n",
      "Found 50334 unique tokens.\n",
      "Dimensions of our coded results: (60000, 2000)\n"
     ]
    }
   ],
   "source": [
    "#Now onto the actual code recipe...\n",
    "complaints = raw_df[\"Consumer complaint narrative\"] #Our raw text complaints\n",
    "\n",
    "tokenizer = Tokenizer(num_words=2000) #Initialize a tokenizer.\n",
    "\n",
    "tokenizer.fit_on_texts(complaints) #Fit it to the complaints\n",
    "\n",
    "sequences = tokenizer.texts_to_sequences(complaints) #Generate sequences\n",
    "print('sequences type:', type(sequences))\n",
    "\n",
    "one_hot_results= tokenizer.texts_to_matrix(complaints, mode='binary') #Similar to sequences, but returns a numpy array\n",
    "print('one_hot_results type:', type(one_hot_results))\n",
    "\n",
    "word_index = tokenizer.word_index #Useful if we wish to decode (more explanation below)\n",
    "\n",
    "print('Found %s unique tokens.' % len(word_index)) #Tokens are the number of unique words across the corpus\n",
    "\n",
    "\n",
    "print('Dimensions of our coded results:', np.shape(one_hot_results)) #Our coded data"
   ]
  },
  {
   "cell_type": "markdown",
   "metadata": {},
   "source": [
    "## Decoding our Word Vectors\n",
    "As a note, you can also decode these vectorized representations of the reviews. The `word_index` variable, defined above, stores the mapping from the label number to the actual word. Somewhat tediously, we can turn this dictionary inside out and map it back to our word vectors, giving us roughly the original complaint back. (As you'll see, the text won't be identical as we limited ourselves to 200 words.)"
   ]
  },
  {
   "cell_type": "markdown",
   "metadata": {},
   "source": [
    "## Python Review / Mini Challenge\n",
    "\n",
    "While a bit tangential to our main topic of interest, we need to reverse our current dictionary `word_index` which maps words from our corpus to integers. In decoding our one_hot_results, we will need to create a dictionary of these integers to the original words. Below, take the `word_index` dictionary object and change the orientation so that the values are keys and the keys values. In other words, you are transforming something of the form {A:1, B:2, C:3} to {1:A, 2:B, 3:C}"
   ]
  },
  {
   "cell_type": "code",
   "execution_count": 11,
   "metadata": {},
   "outputs": [],
   "source": [
    "#Your code here\n",
    "reverse_index = dict((v,k) for k,v in word_index.items())"
   ]
  },
  {
   "cell_type": "markdown",
   "metadata": {},
   "source": [
    "## Back to Decoding Our Word Vectors..."
   ]
  },
  {
   "cell_type": "code",
   "execution_count": 12,
   "metadata": {},
   "outputs": [
    {
     "name": "stdout",
     "output_type": "stream",
     "text": [
      "Original complaint text:\n",
      "I have already filed several complaints about AES/PHEAA. I was notified by a XXXX XXXX let @ XXXX, who pretended to be from your office, he said he was from CFPB. I found out this morning he is n't from your office, but is actually works at XXXX. \r\n",
      "\r\n",
      "This has wasted weeks of my time. They AES/PHEAA confirmed and admitted ( see attached transcript of XXXX, conversation at XXXX ( XXXX ) with XXXX that proves they verified the loans are not mine ) the student loans they had XXXX, and collected on, and reported negate credit reporting in my name are in fact, not mine. \r\n",
      "They conclued their investigation on XXXX admitting they made a mistake and have my name on soneone elses loans. I these XXXX loans total {$10000.00}, original amount. My XXXX loans I got was total {$3500.00}. We proved by providing AES/PHEAA, this with my original promissary notes I located recently, the XXXX of my college provided AES/PHEAA with their original shoeinf amounts of my XXXX loans which show different dates and amounts, the dates and amounts are not even close to matching these loans they have in my name, The original lender, XXXX XXXX Bank notifying AES/PHEAA, they never issued me a student loan, and original Loan Guarantor, XXXX, notifying AES/PHEAA, they never were guarantor of my loans. \r\n",
      "\r\n",
      "XXXX straight forward. But today, this person, XXXX XXXX, told me they know these loans are not mine, and they refuse to remove my name off these XXXX loan 's and correct their mistake, essentially forcing me to pay these loans off, bucause in XXXX they sold the loans to XXXX loans. \r\n",
      "\r\n",
      "This is absurd, first protruding to be this office, and then refusing to correct their mistake. \r\n",
      "\r\n",
      "Please for the love of XXXX will soneone from your office call me at XXXX, today. I am a XXXX vet and they are knowingly discriminating against me. \r\n",
      "Pretending to be you.\n",
      "\n",
      "\n",
      "\n",
      "Decoded review from Tokenizer:\n",
      "i have already filed several complaints about aes i was notified by a xxxx xxxx let xxxx who to be from your office he said he was from cfpb i found out this morning he is n't from your office but is actually works at xxxx \r",
      " \r",
      " this has weeks of my time they aes confirmed and admitted see attached of xxxx conversation at xxxx xxxx with xxxx that they verified the loans are not mine the student loans they had xxxx and on and reported credit reporting in my name are in fact not mine \r",
      " they their investigation on xxxx they made a mistake and have my name on loans i these xxxx loans total 10000 00 original amount my xxxx loans i got was total 00 we by providing aes this with my original notes i located recently the xxxx of my college provided aes with their original amounts of my xxxx loans which show different dates and amounts the dates and amounts are not even close to these loans they have in my name the original lender xxxx xxxx bank notifying aes they never issued me a student loan and original loan xxxx notifying aes they never were of my loans \r",
      " \r",
      " xxxx forward but today this person xxxx xxxx told me they know these loans are not mine and they refuse to remove my name off these xxxx loan 's and correct their mistake essentially me to pay these loans off in xxxx they sold the loans to xxxx loans \r",
      " \r",
      " this is first to be this office and then refusing to correct their mistake \r",
      " \r",
      " please for the of xxxx will from your office call me at xxxx today i am a xxxx and they are against me \r",
      " to be you\n"
     ]
    }
   ],
   "source": [
    "comment_idx_to_preview = 19\n",
    "print('Original complaint text:')\n",
    "print(complaints[comment_idx_to_preview])\n",
    "print('\\n\\n')\n",
    "\n",
    "#The reverse_index cell block above must be complete in order for this cell block to successively execute.\n",
    "decoded_review = ' '.join([reverse_index.get(i) for i in sequences[comment_idx_to_preview]])\n",
    "print('Decoded review from Tokenizer:')\n",
    "print(decoded_review)"
   ]
  },
  {
   "cell_type": "markdown",
   "metadata": {},
   "source": [
    "## Convert the Products to Numerical Categories\n",
    "\n",
    "On to step two of our preprocessing: converting our descriptive categories into integers."
   ]
  },
  {
   "cell_type": "code",
   "execution_count": 14,
   "metadata": {},
   "outputs": [
    {
     "name": "stdout",
     "output_type": "stream",
     "text": [
      "Original class labels:\n",
      "['Bank account or service', 'Checking or savings account', 'Consumer Loan', 'Credit card', 'Credit reporting', 'Mortgage', 'Student loan']\n",
      "\n",
      "\n",
      "New product labels:\n",
      "[6 6 6 ... 4 4 4]\n",
      "\n",
      "\n",
      "One hot labels; 7 binary columns, one for each of the categories.\n",
      "[[0. 0. 0. ... 0. 0. 1.]\n",
      " [0. 0. 0. ... 0. 0. 1.]\n",
      " [0. 0. 0. ... 0. 0. 1.]\n",
      " ...\n",
      " [0. 0. 0. ... 1. 0. 0.]\n",
      " [0. 0. 0. ... 1. 0. 0.]\n",
      " [0. 0. 0. ... 1. 0. 0.]]\n",
      "\n",
      "\n",
      "One hot labels shape:\n",
      "(60000, 7)\n"
     ]
    }
   ],
   "source": [
    "product = raw_df[\"Product\"]\n",
    "\n",
    "le = preprocessing.LabelEncoder() #Initialize. le used as abbreviation fo label encoder\n",
    "le.fit(product)\n",
    "print(\"Original class labels:\")\n",
    "print(list(le.classes_))\n",
    "print('\\n')\n",
    "product_cat = le.transform(product)  \n",
    "#list(le.inverse_transform([0, 1, 3, 3, 0, 6, 4])) #If you wish to retrieve the original descriptive labels post production\n",
    "\n",
    "print('New product labels:')\n",
    "print(product_cat)\n",
    "print('\\n')\n",
    "\n",
    "\n",
    "print('One hot labels; 7 binary columns, one for each of the categories.') #Each row will be all zeros except for the category for that observation.\n",
    "product_onehot = to_categorical(product_cat)\n",
    "print(product_onehot)\n",
    "print('\\n')\n",
    "\n",
    "print('One hot labels shape:')\n",
    "print(np.shape(product_onehot))"
   ]
  },
  {
   "cell_type": "markdown",
   "metadata": {},
   "source": [
    "## Train - test split\n",
    "\n",
    "Now for our final preprocessing step: the usual train-test split."
   ]
  },
  {
   "cell_type": "code",
   "execution_count": 15,
   "metadata": {},
   "outputs": [
    {
     "name": "stdout",
     "output_type": "stream",
     "text": [
      "Test label shape: (1500, 7)\n",
      "Train label shape: (58500, 7)\n",
      "Test shape: (1500, 2000)\n",
      "Train shape: (58500, 2000)\n"
     ]
    }
   ],
   "source": [
    "import random\n",
    "random.seed(123)\n",
    "test_index = random.sample(range(1,10000), 1500)\n",
    "\n",
    "test = one_hot_results[test_index]\n",
    "train = np.delete(one_hot_results, test_index, 0)\n",
    "\n",
    "\n",
    "label_test = product_onehot[test_index]\n",
    "label_train = np.delete(product_onehot, test_index, 0)\n",
    "\n",
    "print(\"Test label shape:\", np.shape(label_test))\n",
    "print(\"Train label shape:\", np.shape(label_train))\n",
    "print(\"Test shape:\", np.shape(test))\n",
    "print(\"Train shape:\", np.shape(train))"
   ]
  },
  {
   "cell_type": "markdown",
   "metadata": {},
   "source": [
    "## Building the network"
   ]
  },
  {
   "cell_type": "markdown",
   "metadata": {},
   "source": [
    "Let's build a fully connected (Dense) layer network with relu activations in Keras. You can do this using: `Dense(16, activation='relu')`."
   ]
  },
  {
   "cell_type": "markdown",
   "metadata": {},
   "source": [
    "In this examples, use 2 hidden with 50 units in the first layer and 25 in the second, both with a `relu` activation function. Because we are dealing with a multiclass problem (classifying the complaints into 7 ), we use a use a softmax classifyer in order to output 7 class probabilities per case.  \n",
    "\n",
    "The previous imports that you'll use here are:  \n",
    "\n",
    "```from keras import models\n",
    "from keras import layers```"
   ]
  },
  {
   "cell_type": "code",
   "execution_count": 21,
   "metadata": {},
   "outputs": [],
   "source": [
    "#Your code here; initialize a sequential model with 3 layers; \n",
    "#two hidden relu and the final classification output using softmax\n",
    "from keras.models import Sequential\n",
    "from keras.layers import Dense\n",
    "\n",
    "# create model\n",
    "model = models.Sequential()\n",
    "model.add(Dense(50, input_dim=2000, activation='relu'))\n",
    "model.add(Dense(25, activation='relu'))\n",
    "model.add(Dense(7, activation='softmax'))\n"
   ]
  },
  {
   "cell_type": "markdown",
   "metadata": {},
   "source": [
    "## Compiling the model and look at the results\n",
    "\n",
    "Now, compile the model! This time, use `'categorical_crossentropy'` as the loss function and stochastic gradient descent, `'SGD'` as the optimizer. As in the previous lesson, include the accuracy as a metric."
   ]
  },
  {
   "cell_type": "code",
   "execution_count": 22,
   "metadata": {},
   "outputs": [],
   "source": [
    "#Your code here\n",
    "model.compile(optimizer='SGD',\n",
    "              loss='categorical_crossentropy',\n",
    "              metrics=['accuracy'])"
   ]
  },
  {
   "cell_type": "markdown",
   "metadata": {},
   "source": [
    "## Training the model\n",
    "\n",
    "In the compiler, you'll be passing the optimizer (SGD = stochastic gradient descent), loss function, and metrics. Train the model for 120 epochs in mini-batches of 256 samples."
   ]
  },
  {
   "cell_type": "code",
   "execution_count": 23,
   "metadata": {},
   "outputs": [
    {
     "name": "stdout",
     "output_type": "stream",
     "text": [
      "WARNING:tensorflow:From C:\\Users\\david\\Anaconda3\\lib\\site-packages\\tensorflow\\python\\ops\\math_ops.py:3066: to_int32 (from tensorflow.python.ops.math_ops) is deprecated and will be removed in a future version.\n",
      "Instructions for updating:\n",
      "Use tf.cast instead.\n",
      "Epoch 1/120\n",
      "58500/58500 [==============================] - 3s 47us/step - loss: 1.8611 - acc: 0.2414: 0s - loss: 1.8994\n",
      "Epoch 2/120\n",
      "58500/58500 [==============================] - 2s 37us/step - loss: 1.5685 - acc: 0.4528\n",
      "Epoch 3/120\n",
      "58500/58500 [==============================] - 2s 37us/step - loss: 1.1979 - acc: 0.6228\n",
      "Epoch 4/120\n",
      "58500/58500 [==============================] - 2s 37us/step - loss: 0.9462 - acc: 0.6880\n",
      "Epoch 5/120\n",
      "58500/58500 [==============================] - 2s 37us/step - loss: 0.8139 - acc: 0.7166\n",
      "Epoch 6/120\n",
      "58500/58500 [==============================] - 2s 37us/step - loss: 0.7400 - acc: 0.7338\n",
      "Epoch 7/120\n",
      "58500/58500 [==============================] - 2s 37us/step - loss: 0.6935 - acc: 0.7470\n",
      "Epoch 8/120\n",
      "58500/58500 [==============================] - 2s 38us/step - loss: 0.6604 - acc: 0.7574\n",
      "Epoch 9/120\n",
      "58500/58500 [==============================] - ETA: 0s - loss: 0.6360 - acc: 0.7649- E - 2s 37us/step - loss: 0.6356 - acc: 0.7650\n",
      "Epoch 10/120\n",
      "58500/58500 [==============================] - 2s 37us/step - loss: 0.6160 - acc: 0.7722\n",
      "Epoch 11/120\n",
      "58500/58500 [==============================] - 2s 38us/step - loss: 0.5995 - acc: 0.7783: 1s - loss:\n",
      "Epoch 12/120\n",
      "58500/58500 [==============================] - 2s 37us/step - loss: 0.5857 - acc: 0.7836\n",
      "Epoch 13/120\n",
      "58500/58500 [==============================] - 2s 37us/step - loss: 0.5733 - acc: 0.7872\n",
      "Epoch 14/120\n",
      "58500/58500 [==============================] - 2s 37us/step - loss: 0.5624 - acc: 0.7934\n",
      "Epoch 15/120\n",
      "58500/58500 [==============================] - 2s 37us/step - loss: 0.5527 - acc: 0.7968\n",
      "Epoch 16/120\n",
      "58500/58500 [==============================] - 2s 37us/step - loss: 0.5436 - acc: 0.8014\n",
      "Epoch 17/120\n",
      "58500/58500 [==============================] - 2s 37us/step - loss: 0.5354 - acc: 0.8042\n",
      "Epoch 18/120\n",
      "58500/58500 [==============================] - 2s 38us/step - loss: 0.5277 - acc: 0.8066\n",
      "Epoch 19/120\n",
      "58500/58500 [==============================] - 2s 37us/step - loss: 0.5206 - acc: 0.8108\n",
      "Epoch 20/120\n",
      "58500/58500 [==============================] - ETA: 0s - loss: 0.5140 - acc: 0.8126-  - 2s 37us/step - loss: 0.5143 - acc: 0.8126\n",
      "Epoch 21/120\n",
      "58500/58500 [==============================] - 2s 37us/step - loss: 0.5079 - acc: 0.8156\n",
      "Epoch 22/120\n",
      "58500/58500 [==============================] - 2s 37us/step - loss: 0.5023 - acc: 0.8182\n",
      "Epoch 23/120\n",
      "58500/58500 [==============================] - 2s 37us/step - loss: 0.4969 - acc: 0.8196: 2s - loss: 0.5002 - acc: 0.823 -\n",
      "Epoch 24/120\n",
      "58500/58500 [==============================] - 2s 38us/step - loss: 0.4917 - acc: 0.8212\n",
      "Epoch 25/120\n",
      "58500/58500 [==============================] - 2s 37us/step - loss: 0.4869 - acc: 0.8242\n",
      "Epoch 26/120\n",
      "58500/58500 [==============================] - ETA: 0s - loss: 0.4825 - acc: 0.8259- ETA: 2s - loss: 0.4690 - acc: 0.840 - - 2s 37us/step - loss: 0.4823 - acc: 0.8258\n",
      "Epoch 27/120\n",
      "58500/58500 [==============================] - 2s 37us/step - loss: 0.4778 - acc: 0.8278\n",
      "Epoch 28/120\n",
      "58500/58500 [==============================] - 2s 37us/step - loss: 0.4737 - acc: 0.8290\n",
      "Epoch 29/120\n",
      "58500/58500 [==============================] - 2s 37us/step - loss: 0.4699 - acc: 0.8310\n",
      "Epoch 30/120\n",
      "58500/58500 [==============================] - 2s 37us/step - loss: 0.4661 - acc: 0.8329\n",
      "Epoch 31/120\n",
      "58500/58500 [==============================] - 2s 37us/step - loss: 0.4623 - acc: 0.8346: 2s - loss: 0.4373 - acc: 0.84 - \n",
      "Epoch 32/120\n",
      "58500/58500 [==============================] - 2s 37us/step - loss: 0.4589 - acc: 0.8364\n",
      "Epoch 33/120\n",
      "58500/58500 [==============================] - 2s 37us/step - loss: 0.4553 - acc: 0.8371\n",
      "Epoch 34/120\n",
      "58500/58500 [==============================] - 2s 37us/step - loss: 0.4522 - acc: 0.8386\n",
      "Epoch 35/120\n",
      "58500/58500 [==============================] - 2s 38us/step - loss: 0.4493 - acc: 0.8403: 1s \n",
      "Epoch 36/120\n",
      "58500/58500 [==============================] - 2s 38us/step - loss: 0.4463 - acc: 0.8410\n",
      "Epoch 37/120\n",
      "58500/58500 [==============================] - 2s 39us/step - loss: 0.4435 - acc: 0.8424\n",
      "Epoch 38/120\n",
      "58500/58500 [==============================] - 2s 38us/step - loss: 0.4407 - acc: 0.8428\n",
      "Epoch 39/120\n",
      "58500/58500 [==============================] - 2s 38us/step - loss: 0.4379 - acc: 0.8434\n",
      "Epoch 40/120\n",
      "58500/58500 [==============================] - 2s 38us/step - loss: 0.4353 - acc: 0.8450\n",
      "Epoch 41/120\n",
      "58500/58500 [==============================] - 2s 39us/step - loss: 0.4327 - acc: 0.8461\n",
      "Epoch 42/120\n",
      "58500/58500 [==============================] - 2s 37us/step - loss: 0.4303 - acc: 0.8467\n",
      "Epoch 43/120\n",
      "58500/58500 [==============================] - 2s 37us/step - loss: 0.4276 - acc: 0.8479\n",
      "Epoch 44/120\n",
      "58500/58500 [==============================] - 2s 37us/step - loss: 0.4257 - acc: 0.8485\n",
      "Epoch 45/120\n",
      "58500/58500 [==============================] - 2s 37us/step - loss: 0.4236 - acc: 0.8499: 2s - loss: 0.4007 - acc: 0.85 - \n",
      "Epoch 46/120\n",
      "58500/58500 [==============================] - 2s 36us/step - loss: 0.4212 - acc: 0.8506\n",
      "Epoch 47/120\n",
      "58500/58500 [==============================] - 2s 37us/step - loss: 0.4192 - acc: 0.8517\n",
      "Epoch 48/120\n",
      "58500/58500 [==============================] - 2s 36us/step - loss: 0.4173 - acc: 0.8522\n",
      "Epoch 49/120\n",
      "58500/58500 [==============================] - 2s 37us/step - loss: 0.4153 - acc: 0.8525\n",
      "Epoch 50/120\n",
      "58500/58500 [==============================] - 2s 37us/step - loss: 0.4130 - acc: 0.8538\n",
      "Epoch 51/120\n",
      "58500/58500 [==============================] - 2s 38us/step - loss: 0.4110 - acc: 0.8539\n",
      "Epoch 52/120\n",
      "58500/58500 [==============================] - 2s 36us/step - loss: 0.4097 - acc: 0.8543\n",
      "Epoch 53/120\n",
      "58500/58500 [==============================] - 2s 36us/step - loss: 0.4077 - acc: 0.8554\n",
      "Epoch 54/120\n",
      "58500/58500 [==============================] - 2s 37us/step - loss: 0.4057 - acc: 0.8559\n",
      "Epoch 55/120\n",
      "58500/58500 [==============================] - 2s 38us/step - loss: 0.4041 - acc: 0.8566: 2s - loss: 0.3953 - acc: 0.849 \n",
      "Epoch 56/120\n",
      "58500/58500 [==============================] - 2s 39us/step - loss: 0.4023 - acc: 0.8571\n",
      "Epoch 57/120\n",
      "58500/58500 [==============================] - 2s 38us/step - loss: 0.4009 - acc: 0.8577\n",
      "Epoch 58/120\n",
      "58500/58500 [==============================] - 2s 37us/step - loss: 0.3990 - acc: 0.8581\n",
      "Epoch 59/120\n",
      "58500/58500 [==============================] - 2s 37us/step - loss: 0.3974 - acc: 0.8589\n",
      "Epoch 60/120\n",
      "58500/58500 [==============================] - 2s 37us/step - loss: 0.3961 - acc: 0.8592\n",
      "Epoch 61/120\n",
      "58500/58500 [==============================] - 2s 37us/step - loss: 0.3941 - acc: 0.8602\n",
      "Epoch 62/120\n",
      "58500/58500 [==============================] - 2s 38us/step - loss: 0.3930 - acc: 0.8601\n",
      "Epoch 63/120\n",
      "58500/58500 [==============================] - 2s 37us/step - loss: 0.3916 - acc: 0.8615\n",
      "Epoch 64/120\n",
      "58500/58500 [==============================] - 2s 37us/step - loss: 0.3899 - acc: 0.8621\n",
      "Epoch 65/120\n",
      "58500/58500 [==============================] - 2s 37us/step - loss: 0.3884 - acc: 0.8622\n",
      "Epoch 66/120\n",
      "58500/58500 [==============================] - 2s 37us/step - loss: 0.3870 - acc: 0.8626\n",
      "Epoch 67/120\n",
      "58500/58500 [==============================] - 2s 37us/step - loss: 0.3856 - acc: 0.8630\n",
      "Epoch 68/120\n",
      "58500/58500 [==============================] - 2s 37us/step - loss: 0.3843 - acc: 0.8642\n",
      "Epoch 69/120\n",
      "58500/58500 [==============================] - 2s 37us/step - loss: 0.3831 - acc: 0.8645\n",
      "Epoch 70/120\n",
      "58500/58500 [==============================] - 2s 37us/step - loss: 0.3817 - acc: 0.8640\n",
      "Epoch 71/120\n",
      "58500/58500 [==============================] - 2s 37us/step - loss: 0.3804 - acc: 0.8652\n",
      "Epoch 72/120\n",
      "58500/58500 [==============================] - 2s 40us/step - loss: 0.3793 - acc: 0.8652\n",
      "Epoch 73/120\n",
      "58500/58500 [==============================] - 2s 39us/step - loss: 0.3776 - acc: 0.8663\n",
      "Epoch 74/120\n",
      "58500/58500 [==============================] - 2s 38us/step - loss: 0.3763 - acc: 0.8670\n",
      "Epoch 75/120\n"
     ]
    },
    {
     "name": "stdout",
     "output_type": "stream",
     "text": [
      "58500/58500 [==============================] - 2s 39us/step - loss: 0.3752 - acc: 0.8663\n",
      "Epoch 76/120\n",
      "58500/58500 [==============================] - 2s 37us/step - loss: 0.3740 - acc: 0.8670\n",
      "Epoch 77/120\n",
      "58500/58500 [==============================] - ETA: 0s - loss: 0.3727 - acc: 0.8677- ET - 2s 38us/step - loss: 0.3729 - acc: 0.8675\n",
      "Epoch 78/120\n",
      "58500/58500 [==============================] - 2s 38us/step - loss: 0.3716 - acc: 0.8681\n",
      "Epoch 79/120\n",
      "58500/58500 [==============================] - 2s 39us/step - loss: 0.3707 - acc: 0.8682\n",
      "Epoch 80/120\n",
      "58500/58500 [==============================] - 2s 38us/step - loss: 0.3691 - acc: 0.8697\n",
      "Epoch 81/120\n",
      "58500/58500 [==============================] - 2s 38us/step - loss: 0.3679 - acc: 0.8698\n",
      "Epoch 82/120\n",
      "58500/58500 [==============================] - 2s 37us/step - loss: 0.3668 - acc: 0.8690\n",
      "Epoch 83/120\n",
      "58500/58500 [==============================] - 2s 38us/step - loss: 0.3658 - acc: 0.8699\n",
      "Epoch 84/120\n",
      "58500/58500 [==============================] - 2s 37us/step - loss: 0.3647 - acc: 0.8700\n",
      "Epoch 85/120\n",
      "58500/58500 [==============================] - 2s 37us/step - loss: 0.3639 - acc: 0.8708\n",
      "Epoch 86/120\n",
      "58500/58500 [==============================] - 2s 37us/step - loss: 0.3624 - acc: 0.8709\n",
      "Epoch 87/120\n",
      "58500/58500 [==============================] - 2s 37us/step - loss: 0.3614 - acc: 0.8717\n",
      "Epoch 88/120\n",
      "58500/58500 [==============================] - 2s 37us/step - loss: 0.3605 - acc: 0.8721\n",
      "Epoch 89/120\n",
      "58500/58500 [==============================] - 2s 37us/step - loss: 0.3592 - acc: 0.8729\n",
      "Epoch 90/120\n",
      "58500/58500 [==============================] - 2s 37us/step - loss: 0.3582 - acc: 0.8723\n",
      "Epoch 91/120\n",
      "58500/58500 [==============================] - 2s 37us/step - loss: 0.3577 - acc: 0.8730\n",
      "Epoch 92/120\n",
      "58500/58500 [==============================] - 2s 37us/step - loss: 0.3559 - acc: 0.8734\n",
      "Epoch 93/120\n",
      "58500/58500 [==============================] - 2s 37us/step - loss: 0.3557 - acc: 0.8735\n",
      "Epoch 94/120\n",
      "58500/58500 [==============================] - 2s 37us/step - loss: 0.3540 - acc: 0.8738\n",
      "Epoch 95/120\n",
      "58500/58500 [==============================] - 2s 37us/step - loss: 0.3532 - acc: 0.8740\n",
      "Epoch 96/120\n",
      "58500/58500 [==============================] - 2s 37us/step - loss: 0.3520 - acc: 0.8753\n",
      "Epoch 97/120\n",
      "58500/58500 [==============================] - 2s 37us/step - loss: 0.3510 - acc: 0.8746\n",
      "Epoch 98/120\n",
      "58500/58500 [==============================] - 2s 37us/step - loss: 0.3501 - acc: 0.8749\n",
      "Epoch 99/120\n",
      "58500/58500 [==============================] - 2s 37us/step - loss: 0.3490 - acc: 0.8761\n",
      "Epoch 100/120\n",
      "58500/58500 [==============================] - 2s 37us/step - loss: 0.3483 - acc: 0.8761\n",
      "Epoch 101/120\n",
      "58500/58500 [==============================] - 2s 37us/step - loss: 0.3473 - acc: 0.8768\n",
      "Epoch 102/120\n",
      "58500/58500 [==============================] - 2s 38us/step - loss: 0.3464 - acc: 0.8773\n",
      "Epoch 103/120\n",
      "58500/58500 [==============================] - 2s 37us/step - loss: 0.3451 - acc: 0.8771: 0s - loss: 0.344\n",
      "Epoch 104/120\n",
      "58500/58500 [==============================] - 2s 37us/step - loss: 0.3442 - acc: 0.8778\n",
      "Epoch 105/120\n",
      "58500/58500 [==============================] - 2s 37us/step - loss: 0.3432 - acc: 0.8777\n",
      "Epoch 106/120\n",
      "58500/58500 [==============================] - ETA: 0s - loss: 0.3420 - acc: 0.8785- ETA: 0s - loss: 0.3395 - 2s 37us/step - loss: 0.3421 - acc: 0.8783\n",
      "Epoch 107/120\n",
      "58500/58500 [==============================] - 2s 37us/step - loss: 0.3413 - acc: 0.8790\n",
      "Epoch 108/120\n",
      "58500/58500 [==============================] - 2s 37us/step - loss: 0.3404 - acc: 0.8788\n",
      "Epoch 109/120\n",
      "58500/58500 [==============================] - 2s 37us/step - loss: 0.3395 - acc: 0.8791\n",
      "Epoch 110/120\n",
      "58500/58500 [==============================] - 2s 37us/step - loss: 0.3383 - acc: 0.8798\n",
      "Epoch 111/120\n",
      "58500/58500 [==============================] - 2s 37us/step - loss: 0.3376 - acc: 0.8799: 0s - loss: 0.3389 - acc\n",
      "Epoch 112/120\n",
      "58500/58500 [==============================] - 2s 37us/step - loss: 0.3367 - acc: 0.8804\n",
      "Epoch 113/120\n",
      "58500/58500 [==============================] - 2s 37us/step - loss: 0.3356 - acc: 0.8810\n",
      "Epoch 114/120\n",
      "58500/58500 [==============================] - 2s 37us/step - loss: 0.3347 - acc: 0.8812\n",
      "Epoch 115/120\n",
      "58500/58500 [==============================] - 2s 37us/step - loss: 0.3338 - acc: 0.8812\n",
      "Epoch 116/120\n",
      "58500/58500 [==============================] - 2s 37us/step - loss: 0.3334 - acc: 0.8818\n",
      "Epoch 117/120\n",
      "58500/58500 [==============================] - 2s 37us/step - loss: 0.3317 - acc: 0.8818\n",
      "Epoch 118/120\n",
      "58500/58500 [==============================] - 2s 37us/step - loss: 0.3307 - acc: 0.8818\n",
      "Epoch 119/120\n",
      "58500/58500 [==============================] - 2s 37us/step - loss: 0.3300 - acc: 0.8829\n",
      "Epoch 120/120\n",
      "58500/58500 [==============================] - 2s 37us/step - loss: 0.3291 - acc: 0.8830: 0s - loss: 0.3286 - acc\n"
     ]
    }
   ],
   "source": [
    "#Your code here\n",
    "history = model.fit(train,\n",
    "                    label_train,\n",
    "                    epochs=120,\n",
    "                    batch_size=256)"
   ]
  },
  {
   "cell_type": "markdown",
   "metadata": {},
   "source": [
    "Recall that the dictionary `history` has two entries: the loss and the accuracy achieved using the training set."
   ]
  },
  {
   "cell_type": "code",
   "execution_count": 24,
   "metadata": {},
   "outputs": [
    {
     "data": {
      "text/plain": [
       "dict_keys(['loss', 'acc'])"
      ]
     },
     "execution_count": 24,
     "metadata": {},
     "output_type": "execute_result"
    }
   ],
   "source": [
    "history_dict = history.history\n",
    "history_dict.keys()"
   ]
  },
  {
   "cell_type": "markdown",
   "metadata": {},
   "source": [
    "## Plot the results\n",
    "\n",
    "As you might expect, we'll use our ```import matplotlib.pyplot as plt``` for graphing. Use the data stored in the history_dict above to plot the loss vs epochs and the accurcay vs epochs."
   ]
  },
  {
   "cell_type": "code",
   "execution_count": 25,
   "metadata": {},
   "outputs": [
    {
     "data": {
      "image/png": "[encoded data removed]",
      "text/plain": [
       "<Figure size 432x288 with 1 Axes>"
      ]
     },
     "metadata": {
      "needs_background": "light"
     },
     "output_type": "display_data"
    }
   ],
   "source": [
    "#Your code here; plot the loss vs the number of epoch\n",
    "plt.plot(history.history['loss'])\n",
    "plt.show()"
   ]
  },
  {
   "cell_type": "code",
   "execution_count": 28,
   "metadata": {},
   "outputs": [
    {
     "data": {
      "image/png": "[encoded data removed]",
      "text/plain": [
       "<Figure size 432x288 with 1 Axes>"
      ]
     },
     "metadata": {
      "needs_background": "light"
     },
     "output_type": "display_data"
    }
   ],
   "source": [
    "#Your code here; plot the training accuracy vs the number of epochs\n",
    "plt.plot(history.history['acc'])\n",
    "plt.show()"
   ]
  },
  {
   "cell_type": "markdown",
   "metadata": {},
   "source": [
    "It seems like we could just keep on going and accuracy would go up!"
   ]
  },
  {
   "cell_type": "markdown",
   "metadata": {},
   "source": [
    "## Make predictions\n",
    "\n",
    "Finally, it's time to output. Use the method discussed in the previous lesson to output (probability) predictions for the test set."
   ]
  },
  {
   "cell_type": "code",
   "execution_count": 29,
   "metadata": {},
   "outputs": [],
   "source": [
    "y_hat_test = model.predict(test)"
   ]
  },
  {
   "cell_type": "markdown",
   "metadata": {},
   "source": [
    "## Evaluate Performance\n",
    "\n",
    "Finally, print the loss and accuracy for both the train and test sets of the final trained model."
   ]
  },
  {
   "cell_type": "code",
   "execution_count": 31,
   "metadata": {},
   "outputs": [
    {
     "name": "stdout",
     "output_type": "stream",
     "text": [
      "58500/58500 [==============================] - 2s 30us/step\n"
     ]
    },
    {
     "data": {
      "text/plain": [
       "[0.32253631745380723, 0.8868034188034188]"
      ]
     },
     "execution_count": 31,
     "metadata": {},
     "output_type": "execute_result"
    }
   ],
   "source": [
    "model.evaluate(train, label_train)"
   ]
  },
  {
   "cell_type": "code",
   "execution_count": 32,
   "metadata": {},
   "outputs": [
    {
     "name": "stdout",
     "output_type": "stream",
     "text": [
      "1500/1500 [==============================] - 0s 32us/step\n"
     ]
    },
    {
     "data": {
      "text/plain": [
       "[0.23287834798296292, 0.9326666668256124]"
      ]
     },
     "execution_count": 32,
     "metadata": {},
     "output_type": "execute_result"
    }
   ],
   "source": [
    "model.evaluate(test, label_test)"
   ]
  },
  {
   "cell_type": "markdown",
   "metadata": {},
   "source": [
    "We can see that the training set results are really good (a 89.4% classification accuracy!), but the test set results lag behind. In the next lab. We'll talk a little more about this in the next lecture, and will discuss how we can get better test set results as well!"
   ]
  },
  {
   "cell_type": "markdown",
   "metadata": {},
   "source": [
    "## Additional Resources"
   ]
  },
  {
   "cell_type": "markdown",
   "metadata": {},
   "source": [
    "https://github.com/susanli2016/Machine-Learning-with-Python/blob/master/Consumer_complaints.ipynb"
   ]
  },
  {
   "cell_type": "markdown",
   "metadata": {},
   "source": [
    "https://catalog.data.gov/dataset/consumer-complaint-database"
   ]
  },
  {
   "cell_type": "markdown",
   "metadata": {},
   "source": [
    "## Summary \n",
    "\n",
    "Congratulations! In this lab, you built a neural network with much less production time thanks to the tools provided by Keras! In upcoming lessons and labs we'll continue to investigate further ideas regarding how to tune and refine these models for increased accuracy and performance."
   ]
  }
 ],
 "metadata": {
  "kernelspec": {
   "display_name": "Python 3",
   "language": "python",
   "name": "python3"
  },
  "language_info": {
   "codemirror_mode": {
    "name": "ipython",
    "version": 3
   },
   "file_extension": ".py",
   "mimetype": "text/x-python",
   "name": "python",
   "nbconvert_exporter": "python",
   "pygments_lexer": "ipython3",
   "version": "3.7.0"
  }
 },
 "nbformat": 4,
 "nbformat_minor": 2
}
